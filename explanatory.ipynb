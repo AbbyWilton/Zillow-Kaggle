{
 "cells": [
  {
   "cell_type": "code",
   "execution_count": null,
   "metadata": {},
   "outputs": [],
   "source": [
    "%load_ext autoreload\n",
    "%autoreload 2\n",
    "import src.data_proc as data_proc\n",
    "\n",
    "import numpy as np\n",
    "import pandas as pd\n",
    "import sys\n",
    "import os\n",
    "import gc\n",
    "import random\n",
    "pd.options.display.max_columns = None\n",
    "pd.options.mode.chained_assignment = None\n",
    "pd.options.display.float_format\n",
    "\n",
    "from sklearn.model_selection import train_test_split\n",
    "\n",
    "from catboost import CatBoostRegressor, Pool\n",
    "\n",
    "import matplotlib as mpl\n",
    "import matplotlib.pyplot as plt\n",
    "import matplotlib.pylab as pylab\n",
    "import seaborn as sns\n",
    "%matplotlib inline\n",
    "mpl.style.use( 'ggplot' )\n",
    "sns.set_style( 'white' )\n",
    "pylab.rcParams[ 'figure.figsize' ] = 8 , 6"
   ]
  },
  {
   "cell_type": "code",
   "execution_count": null,
   "metadata": {},
   "outputs": [],
   "source": [
    "%%time\n",
    "# Load in the data\n",
    "train_2016 = pd.read_csv(\"data/train_2016_v2.csv\")\n",
    "prop = pd.read_csv(\"data/properties_2016.csv\", dtype={\n",
    "    'propertycountylandusecode': str,\n",
    "    'hashottuborspa': str,\n",
    "    'propertyzoningdesc': str,\n",
    "    'fireplaceflag': str,\n",
    "    'taxdelinquencyflag': str\n",
    "})\n",
    "\n",
    "# Parse the flag attributes\n",
    "def convert_true_to_float(df, col):\n",
    "    df.loc[df[col] == 'true', col] = '1'\n",
    "    df.loc[df[col] == 'Y', col] = '1'\n",
    "    df[col] = df[col].astype(float)\n",
    "\n",
    "for col in ['hashottuborspa', 'fireplaceflag', 'taxdelinquencyflag']:\n",
    "    convert_true_to_float(prop, col)"
   ]
  },
  {
   "cell_type": "code",
   "execution_count": null,
   "metadata": {},
   "outputs": [],
   "source": [
    "print(\"Number of transaction records: {}\".format(len(train_2016)))\n",
    "print(\"Number of properties: {}\".format(len(prop)))\n",
    "print(\"Number of property features: {}\".format(len(prop.columns)-1))"
   ]
  },
  {
   "cell_type": "code",
   "execution_count": null,
   "metadata": {
    "collapsed": true
   },
   "outputs": [],
   "source": [
    "# Rename & retype the feature columns; also unify representations of missing values\n",
    "data_proc.rename_columns(prop)\n",
    "data_proc.retype_columns(prop)"
   ]
  },
  {
   "cell_type": "code",
   "execution_count": null,
   "metadata": {
    "scrolled": true
   },
   "outputs": [],
   "source": [
    "# Join the training data with the property table\n",
    "train_2016 = train_2016.merge(how='left', right=prop, on='parcelid')\n",
    "\n",
    "# Look at how complete (i.e. no missing value) each training set feature is\n",
    "data_proc.print_complete_percentage(train_2016)\n",
    "train_2016.head(30)"
   ]
  },
  {
   "cell_type": "code",
   "execution_count": null,
   "metadata": {},
   "outputs": [],
   "source": [
    "# Look at the distribution of the target variable (log-error)\n",
    "print(train_2016['logerror'].describe())\n",
    "train_2016.loc[abs(train_2016['logerror']) < 0.6, 'logerror'].hist(bins=40)"
   ]
  },
  {
   "cell_type": "code",
   "execution_count": null,
   "metadata": {},
   "outputs": [],
   "source": [
    "# Looks like there are some outliers in the training data (very large logerror)\n",
    "# abs(logerror) > 0.6 seems abnormal\n",
    "# Maybe should identify and remove them?\n",
    "threshold = 0.6\n",
    "print(\"{} training examples in total\".format(len(train_2016)))\n",
    "print(\"{} with abs(logerror) > {}\".format((abs(train_2016['logerror']) > threshold).sum(), threshold))\n",
    "\n",
    "train_2016 = train_2016[abs(train_2016.logerror) <= threshold]"
   ]
  },
  {
   "cell_type": "markdown",
   "metadata": {},
   "source": [
    "Analyze time data, and engineer some features!"
   ]
  },
  {
   "cell_type": "code",
   "execution_count": null,
   "metadata": {
    "scrolled": true
   },
   "outputs": [],
   "source": [
    "datetime = pd.to_datetime(train_2016.transactiondate).dt\n",
    "year = datetime.year\n",
    "month = datetime.month\n",
    "quarter = datetime.quarter\n",
    "day = datetime.day\n",
    "\n",
    "for m in range(1, 13):\n",
    "    print(\"{}: {}\".format(m, train_2016[month == m].logerror.median()))\n",
    "print()\n",
    "\n",
    "for q in range(1, 5):\n",
    "    print(\"{}: {}\".format(q, train_2016[quarter == q].logerror.median()))\n",
    "print()\n",
    "\n",
    "for d in range(1, 32):\n",
    "    print(\"{}: {}\".format(d, train_2016[day == d].logerror.median()))"
   ]
  },
  {
   "cell_type": "code",
   "execution_count": null,
   "metadata": {
    "collapsed": true
   },
   "outputs": [],
   "source": [
    "datetime = pd.to_datetime(train_2016.transactiondate).dt\n",
    "train_2016['year'] = datetime.year\n",
    "train_2016['month'] = datetime.month\n",
    "train_2016['quarter'] = datetime.quarter"
   ]
  },
  {
   "cell_type": "code",
   "execution_count": null,
   "metadata": {},
   "outputs": [],
   "source": [
    "print(train_2016.groupby('year')['year', 'logerror'].median())\n",
    "print(train_2016.groupby('month')['month', 'logerror'].median())\n",
    "print(train_2016.groupby('quarter')['quarter', 'logerror'].median())"
   ]
  },
  {
   "cell_type": "markdown",
   "metadata": {},
   "source": [
    "Analyze location and neighborhood data, and see if we can extract some features"
   ]
  },
  {
   "cell_type": "code",
   "execution_count": null,
   "metadata": {},
   "outputs": [],
   "source": [
    "temp = prop[prop.regionidneighborhood == 27080]\n",
    "plt.scatter(temp.latitude, temp.longitude, s=1)"
   ]
  },
  {
   "cell_type": "code",
   "execution_count": null,
   "metadata": {},
   "outputs": [],
   "source": [
    "temp.describe()"
   ]
  },
  {
   "cell_type": "code",
   "execution_count": null,
   "metadata": {
    "collapsed": true
   },
   "outputs": [],
   "source": []
  },
  {
   "cell_type": "code",
   "execution_count": null,
   "metadata": {
    "scrolled": true
   },
   "outputs": [],
   "source": [
    "# Let's see if there are any feature value outliers -> looks like things are fine, no need to process\n",
    "prop_2017.describe().loc[['min', 'max', 'mean']].T"
   ]
  },
  {
   "cell_type": "code",
   "execution_count": null,
   "metadata": {
    "collapsed": true
   },
   "outputs": [],
   "source": []
  }
 ],
 "metadata": {
  "kernelspec": {
   "display_name": "Python 3",
   "language": "python",
   "name": "python3"
  },
  "language_info": {
   "codemirror_mode": {
    "name": "ipython",
    "version": 3
   },
   "file_extension": ".py",
   "mimetype": "text/x-python",
   "name": "python",
   "nbconvert_exporter": "python",
   "pygments_lexer": "ipython3",
   "version": "3.6.3"
  }
 },
 "nbformat": 4,
 "nbformat_minor": 2
}
